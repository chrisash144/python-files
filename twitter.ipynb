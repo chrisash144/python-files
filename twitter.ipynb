{
 "cells": [
  {
   "cell_type": "code",
   "execution_count": 1,
   "metadata": {},
   "outputs": [],
   "source": [
    "import tweepy as tw\n",
    "import pandas as pd"
   ]
  },
  {
   "cell_type": "code",
   "execution_count": 2,
   "metadata": {},
   "outputs": [],
   "source": [
    "consumer_key= 'XANnDqWnFs2MJqcKsX2itg8eU'\n",
    "consumer_secret= 'dzivQVDU2pjTvZymlTo9JgOohpaLObM4YZpboJjbZLnCSeLQd4'\n",
    "access_token= '2219192986-QnqQKSWmtTN2JsHAd882NHATPHQ2anjJUaiIB8Q'\n",
    "access_token_secret= 'NEYeOVwrOxPwoQyB7YifGPHFPMjtfNCYRYm00ztjN2IKq'\n",
    "\n",
    "auth = tw.OAuthHandler(consumer_key, consumer_secret)\n",
    "auth.set_access_token(access_token, access_token_secret)\n",
    "api = tw.API(auth, wait_on_rate_limit=True)"
   ]
  },
  {
   "cell_type": "code",
   "execution_count": null,
   "metadata": {},
   "outputs": [],
   "source": [
    "# Post a tweet from Python\n",
    "# api.update_status(\"Test\")\n",
    "# Your tweet has been posted!"
   ]
  },
  {
   "cell_type": "code",
   "execution_count": 17,
   "metadata": {},
   "outputs": [],
   "source": [
    "search_words = \"#fpl\"\n",
    "date_since = \"2018-11-16\""
   ]
  },
  {
   "cell_type": "code",
   "execution_count": 28,
   "metadata": {},
   "outputs": [
    {
     "data": {
      "text/plain": [
       "<tweepy.cursor.ItemIterator at 0x1f9b9778080>"
      ]
     },
     "execution_count": 28,
     "metadata": {},
     "output_type": "execute_result"
    }
   ],
   "source": [
    "# Collect tweets\n",
    "tweets = tw.Cursor(api.search,\n",
    "              q=search_words,\n",
    "              lang=\"en\",\n",
    "              since=date_since).items(100)\n",
    "tweets"
   ]
  },
  {
   "cell_type": "code",
   "execution_count": 29,
   "metadata": {},
   "outputs": [
    {
     "data": {
      "text/plain": [
       "['RT @SportConvos: Reply your FPL Gameweek3 Team\\n#FPL\\n👇👇👇',\n",
       " 'Wildcard active 💪\\n\\nHad to get rid of some dead weight, and get onto some of the early hype trains.\\n\\nCould still dow… https://t.co/Ir9jLWgjTT',\n",
       " \"GW2: A fair gameweek with 42 points. Iwob, Alonso, King, Barkley didn't start so that's a very bad team selection f… https://t.co/bgAZxEhAz8\",\n",
       " '***GW3***\\n\\nGod help me I hate having an active Wildcard.\\n\\nI think this is it for my team! 🤕😂 #FPL #Stress https://t.co/l42z88vibA',\n",
       " 'RT @SportConvos: Reply your FPL Gameweek3 Team\\n#FPL\\n👇👇👇',\n",
       " 'Granting Perez one more match to prove himself.... #FPL',\n",
       " 'Robbie Brady Flag Change!\\nRobbie Brady has changed from 75% to 0% (Rib Injury - Unknown return date) #FPL',\n",
       " 'HERE WE GO 🔥💪💪💪\\n\\n4 JAM LAGEEEE 📱🖥️⚽\\n\\n#DeadlineTransfer #FPL https://t.co/fqAy6MVmGi',\n",
       " 'RT @OfficialFPL: How many of you are thinking of using Triple Captain already?\\n\\nTry and better this from #FPL champion Adam Levy 😲 https://…',\n",
       " 'RT @elNuel7: PTS: 141😇\\nRANK: TOP 190K🤠\\n\\nMartial as first captain choice this gw(hope it pays off😁)\\n4 point hit\\nIN (Pukki, Jota &amp; Trossard)…',\n",
       " '⚽️#FF⚽️\\n\\n🔸Some of our favourite #FPL accounts:\\n@rogue_wee \\n@Frankwalsh82 \\n@StatOnScout \\n@analytic_fpl \\n@FPL_Chase… https://t.co/Yo1P2ZGZfw',\n",
       " '@FPLFamily I’m with you banking on an Arsenal goal and also taken a punt on Deulofeu.  #FPL',\n",
       " \"Looks like I'm going to lose the whole 4 points Deeney has got me so far by taking him out for a hit.\\n\\n#thanksfornothing\\n#fpl\",\n",
       " 'Player Status Change\\n👎 Brady MF BUR 5.5\\n#FPL #GW3\\nhttps://t.co/BRxg0G59TB',\n",
       " '@hayelahweh Either of Sterling or Salah. Do read our #FFEGWPreview for more insights on these two :) #AskFFE #FPL #GW3',\n",
       " 'Fantasy premier league managers when Pukki blanks for the next 5 game weeks #FPL https://t.co/iDILqmuB34',\n",
       " '#FPL  GameWeek 3 transfer deadline tonight at 8pm, dont forget to fix your teams  👊 #IkgassmentFPL   @Sir_Seisa… https://t.co/HcPrCOSfIn',\n",
       " 'Which highly owned FPL D causes the most rotation headache this weekend?\\n\\n*Hopefully option 4 😓😨😓\\n\\n@FPLgeek20 #FPL #FPLcommunity',\n",
       " 'RT @owuraku_ampofo: Explanations for why we chose these captain options is in episode 3. You can check it out #FPL \\n\\nhttps://t.co/i0RYJo5DP1',\n",
       " 'RT @OfficialFPL: How many of you are thinking of using Triple Captain already?\\n\\nTry and better this from #FPL champion Adam Levy 😲 https://…',\n",
       " 'PTS: 141😇\\nRANK: TOP 190K🤠\\n\\nMartial as first captain choice this gw(hope it pays off😁)\\n4 point hit\\nIN (Pukki, Jota &amp;… https://t.co/i1CrcjAbVe',\n",
       " '🤕 #FPL Status Alert:\\nBrady (BUR)\\nRib Injury - Unknown return date\\nhttps://t.co/vZVOXy5PhM',\n",
       " 'Sterling is owned by 43.4% of the #FPL managers and he has scored in 2 of the last three matches at the Vitality.\\nB… https://t.co/vstgWhSPXB',\n",
       " \"If at first you don't succeed, wildcard.\\n\\n#FPL @OfficialFPL #manutd #AVLEVE\",\n",
       " '#FPL status update - Robbie Brady #BUR is now injured [Rib Injury - Unknown return date]',\n",
       " 'Gameweek 3 is upon us mate\\n#FPL',\n",
       " 'RT @OfficialFPL: How many of you are thinking of using Triple Captain already?\\n\\nTry and better this from #FPL champion Adam Levy 😲 https://…',\n",
       " 'RT @FPLFamily: Don’t forget to check out this week’s #FPLFYI - a BRAND NEW #FPL show available to watch right on #YouTube!\\n\\nIt’s #FPL, but…',\n",
       " 'RT @FFExperts_: (2/2) completing our #FFEGWPreview feature by sharing the “Players to watch out for ...” apart from the Captain’s analysis…',\n",
       " '🎲 Differentiation 101🚨 \\n\\n#GW3 #FPL\\n\\nThis week we 🆚 competition winner: @FPL_Confidant \\n\\nWe’ve jumped on in-form Lam… https://t.co/lDm47IzzyG',\n",
       " \"RT @FFExperts_: Here are the results of the Captain's Poll we ran yesterday as part of our #FFEGWPreview for #GW3  @sterling7 is the people…\",\n",
       " 'RT @FPLGOAT7: Top 3 captain picks for GW3✔️💥\\n\\nKane v NEW : Matches : 7\\nGoals : ⚽⚽⚽\\nG/A per game : 0.43\\n\\nSterling v BOU : Matches : 8\\nGoals…',\n",
       " 'RT @OfficialFPL: Are you team @MoSalah or @sterling7? 👀\\n\\nThe #FPL Show discusses GW3 captain picks https://t.co/aQi1MosD5P',\n",
       " 'RT @FFExperts_: Sharing the updated #FFEFDR as #FPL managers navigate this period of price rises to finalise their teams for #GW3 - keep an…',\n",
       " 'Seems like almoat every Evertonian wants Moise Kean to start. Let’s hope for the best. #FPL',\n",
       " 'RT @FFScout: 🗣️ Pochettino on Son: \"I hope it’s going to help the team from now. I think it was a good opportunity for him to build his fit…',\n",
       " '💰 £2,500 PRIZE POOL💰\\n\\nPut all that wildcard tinkering to good use by entering the FantasyBet Grand Weekend contest!… https://t.co/YUQgwSONDr',\n",
       " 'Only 4 hours until the GW3 deadline 🚨\\n\\nScreenshot those teams and we will be rating them, providing advice if neede… https://t.co/V5d0lynY0y',\n",
       " \"It's Gameweek 3! There's still time to join our #EWNSportFantasyFootball League. \\nCode: 1y5yf9 \\nTake a listen to ou… https://t.co/0XinTmNTPs\",\n",
       " 'EPL 2019/20 - AVL vs EVE betting\\n\\nBet on BetWinner:  https://t.co/RXCWxeVNUq\\n\\n#SportsBetting #Betting #Online… https://t.co/akmMIzvw4g',\n",
       " '@TBC_FPL Good choice. He definitely has a record to back that choice up! 🤩 #FPL',\n",
       " \"🎙️ POSH BOYS ON LOVE SPORT DRIVE\\n\\nJoin @JohnnyBurrow &amp; @andrejpwalker until 7pm.\\n\\n🏏 England's lowest #Ashes score s… https://t.co/tlbbClbU5R\",\n",
       " 'RT @OfficialFPL: How many of you are thinking of using Triple Captain already?\\n\\nTry and better this from #FPL champion Adam Levy 😲 https://…',\n",
       " 'Reply your FPL Gameweek3 Team\\n#FPL\\n👇👇👇',\n",
       " '@TBC_FPL Unlucky bud! Who are you captaining this week then? 🤘 #FPL',\n",
       " '#FPL Captain ??\\n\\nHarry Kane or Raheem Sterling ?',\n",
       " 'Can’t wait for Siggy to get points tonight simply because I transferred him out. It’s bound to happen. 🙃 #FPL',\n",
       " 'RT @FPLKami: COMPETITION: If Wesley Moraes scores first tonight against Everton, I’ll giveaway a 2019/20 Premier League shirt of the winner…',\n",
       " 'Team locked for #GW3 🔒\\n\\nButton to start for me 😋 . 🧤\\nSterling captain ©️\\nVC Martial ⛷\\nNeed something from Moura and… https://t.co/klXUVdrHzu',\n",
       " 'I have exactly 4 hours to decide between Salah &amp; Sterling for captaincy. #FPL',\n",
       " 'RT @utdhope: 🏥 Spurs report that Tanguy Ndombele has sustained a minor thigh injury during training and is unavailable this weekend. Juan F…',\n",
       " '4 pints in chilling in the ☀️ @ Brighton. Think it’s time to delete my @OfficialFPL app temporarily #fpl',\n",
       " 'RT @FPLSurgery: Worrying about who to captain for #GW3?\\n\\nWant to look amazing?\\n\\nBoth gets ridiculously easy with FPL Surgery merchandise\\n\\nS…',\n",
       " \"IT'S TIME\\n\\nWe are live so head on over to the link below and join the Flock as we talk all things #FPL\\n\\nhttps://t.co/SQAjijFtwS\",\n",
       " 'RT @OfficialFPL: Is KDB the key to a successful GW3? 🔑\\n\\n#FPL https://t.co/s8p2w17BYu',\n",
       " '🏥 Spurs report that Tanguy Ndombele has sustained a minor thigh injury during training and is unavailable this week… https://t.co/V7yCLtFvWR',\n",
       " 'RT @FPLKami: COMPETITION: If Wesley Moraes scores first tonight against Everton, I’ll giveaway a 2019/20 Premier League shirt of the winner…',\n",
       " 'That usual “stick or twist” dilemma on #FPL for GW3! Couple players I wanna ship out but “good” fixtures keeping th… https://t.co/t7nnrRfDJI',\n",
       " '@Tomek_Ornat #FPL Kane easy',\n",
       " 'RT @owuraku_ampofo: Some #FPL captain options for GW3. \\n\\nLets do a captain thread. \\n\\nReply with your captain for GW3. #FPLCommunity https:/…',\n",
       " 'Highest ownership in each position. \\nHow many are in your team?\\n\\n🧤Button 2⃣6⃣%\\n🔵Ederson 2⃣3⃣%\\n\\n🔴van Dijk 5⃣2⃣%\\n😡AWB… https://t.co/Mib8jl7DVI',\n",
       " 'Haller and kean on wildcard . Is that too much #fpl community ? Would it be fucking wild if I add mount into the mix too ?',\n",
       " 'RT @FPLKami: COMPETITION: If Wesley Moraes scores first tonight against Everton, I’ll giveaway a 2019/20 Premier League shirt of the winner…',\n",
       " \"Used me wildcard haven't I. #FPL #PremierLeague\",\n",
       " 'RT @FFCommunity_: ⏰ Wildcard Tips ⏰\\n\\nThe community share their key advice ahead of the #FPL deadline!\\n\\n⏪Review: @BigManBakar \\n🧐Watchlist: @…',\n",
       " 'What is this utter dross I’m seeing about HAVING to captain Kane v Newcastle.\\n\\nIf someone owns both Harry and Rahee… https://t.co/3wpcvRWFIu',\n",
       " '👀 Wildcarders #FPL https://t.co/XYOO4JA2Ij',\n",
       " 'RT @FFScout: 🗣️ Pochettino on Lo Celso: \"He was in extended holidays after the Copa America, he didn’t have a proper pre-season and didn’t…',\n",
       " 'RT @FFScout: 🗣️ Pochettino on Son: \"The plan was to provide him with good quality training to try to improve in different areas and when th…',\n",
       " 'The armband has switched from Salah to Sterling 😬 #fpl',\n",
       " 'RT @FFScout: 🗣️ Pochettino on Son: \"I hope it’s going to help the team from now. I think it was a good opportunity for him to build his fit…',\n",
       " 'RT @FFScout: 🗣️ Pochettino on Son Heung-min: \"He was training really, really hard to keep fit and improve in different areas. We are happy…',\n",
       " 'RT @FFScout: 🗣️ Mauricio Pochettino on Dele Alli\\'s chances of playing: \"I think we have one training session more and then we decide, we\\'ll…',\n",
       " 'RT @FFScout: 🗣️ Klopp on Naby Keita: \"’Long-term’ doesn’t mean six months, it means a couple of weeks. So no, no real news. He’s still doin…',\n",
       " 'RT @FFScout: 🗣️ Jurgen Klopp on Alisson\\'s return: \"Not that close. Looks good, is in good shape, good mood, but will take time. No date rea…',\n",
       " 'RT @FFScout: 🗣️ Guardiola on John Stones: \"Not fit for this weekend.\"\\n\\n#FFScout #FPL #GW3 #MCFC',\n",
       " 'RT @FFScout: 🗣️ Guardiola on Joao Cancelo: \"He can play, he\\'s ready. Now, one game a week. The people have time to recover. After the inter…',\n",
       " 'RT @FFScout: 🗣️ Lampard on why Pedro missed training on Tuesday: \"Only because we had a busy week, three games in which Pedro contributed a…',\n",
       " 'RT @FFScout: 🗣️ Sean Dyche confirms that Robbie Brady will not be involved against Wolves despite a return to full training. Danny Drinkwat…',\n",
       " 'RT @FFScout: 🗣️ Pep Guardiola on Oleksandr Zinchenko: \"Yeah, he\\'s fit. In training good, perfectly. It was cramp.\"\\n\\n#FFScout #FPL #GW3 #MCFC',\n",
       " \"RT @FFScout: 🗣️ Daniel Farke reports that Timm Klose is available for tomorrow's match but likely won't start. Josip Drmic and Onel Hernade…\",\n",
       " 'RT @FFScout: 🗣️ Frank Lampard: \"N\\'Golo Kante has got an injury that he has carried all week so we\\'re going to assess that over the next 24…',\n",
       " 'GW 3 💪 #FPL \\nBarkley 🔁 Mount\\nCaptain © @MarcusRashford\\nTarget Point : 89\\nTeam Value : £ 100.3 m\\nITB : £ 0 m… https://t.co/SRJOF9FmrD',\n",
       " 'RT @FFCommunity_: ⏰ Wildcard Tips ⏰\\n\\nThe community share their key advice ahead of the #FPL deadline!\\n\\n⏪Review: @BigManBakar \\n🧐Watchlist: @…',\n",
       " '*0.1mil short* #FPL',\n",
       " \"#GW3 Final Team 🔒\\n\\n2 free transfers have been played early to beat the price rises 💰\\n\\nCheck out who's made the cut… https://t.co/XoIKy2SVI4\",\n",
       " 'Welcome sir Harold #FPL https://t.co/90I6GojPEa',\n",
       " \"If @HKane replies, I'll keep my triple captain on him. Don't let me down Harry I can feel 4 goals from you this wee… https://t.co/fztYpXdOQt\",\n",
       " 'RT @FFScout: 🗣️ Pep Guardiola on Oleksandr Zinchenko: \"Yeah, he\\'s fit. In training good, perfectly. It was cramp.\"\\n\\n#FFScout #FPL #GW3 #MCFC',\n",
       " 'This is how I’m thinking of lining up for GW3. Am I right with Jota on the bench &amp; 5 at the back?\\n\\nOr do I drop dow… https://t.co/R51Z8CzmHj',\n",
       " 'RT @foomnianalytics: Yesterday we introduced one more FREE feature! #FPL\\n\\nZOMBIFY YOUR TEAM!\\n\\nFind out how many points would your team have…',\n",
       " 'My team #GW3 🔒 \\n\\nNo FT use:\\nMy Underdog: KWP👊\\nMy Differential: Maddison 🔝\\nMy Big gun: Kane 🔥\\n\\n© Fantastic Sterling… https://t.co/cn2hyAxIK3',\n",
       " \"RT @OfficialFPL: John Lundstram was benched by 69.6% of his #FPL owners 😬\\n\\n🙋\\u200d♂️ Hands up if it's you?\\n\\n#SHUCRY https://t.co/NsP4bsswoY\",\n",
       " 'Not a lot of love for Salah Captain?! #FPL',\n",
       " 'RT @fplsalah1: GW3 pressers round up (Fri)\\n\\nFit 👍\\nZinchenko\\nPedro\\nSaint-Maxim\\nJoe Linton\\nSon\\n\\nDoubt 🤕\\nKlose\\nKante\\nAlli\\n\\nOut 🚑\\nAllison\\nKeita…',\n",
       " 'All set for week 3 #fantasypremierleague #FPL https://t.co/sSIx69b1sS',\n",
       " 'RT @OfficialFPL: Are you team @MoSalah or @sterling7? 👀\\n\\nThe #FPL Show discusses GW3 captain picks https://t.co/aQi1MosD5P',\n",
       " 'RT @PLFantasyNepal: @altitudehimalya predict and win contest:\\nPredict the final score of match between Sheffield United vs Leicester city a…',\n",
       " \"RT @fpl_analysis: 💻Site team Gameweek 3!💻\\n✅2 FTs, no hits\\n🔄Moura to Cantwell; Wilson to Kane\\n©️ Kane (don't disappoint us Harry😬)\\n👀 🚾on the…\",\n",
       " 'RT @FPL_vs: #FPL Midfielders 🆚 #GW3\\n\\n#Sterling 🆚 #AFCB 📸\\n🅿️🅿️🅿️🅿️🅿️🅿️🅿️\\n⚽⚽⚽⚽⚽⚽⚽⚽🅰️🚷\\n\\n#Salah 🆚 #Arsenal\\n🅿️🅿️🅿️🅿️\\n⚽⚽⚽⚽🅰️🅰️🅰️\\n\\n#Mane 🆚 #Arsena…']"
      ]
     },
     "execution_count": 29,
     "metadata": {},
     "output_type": "execute_result"
    }
   ],
   "source": [
    "[tweet.text for tweet in tweets]"
   ]
  },
  {
   "cell_type": "code",
   "execution_count": 20,
   "metadata": {},
   "outputs": [
    {
     "name": "stdout",
     "output_type": "stream",
     "text": [
      "#FPL Captain ??\n",
      "\n",
      "Harry Kane or Raheem Sterling ?\n",
      "Can’t wait for Siggy to get points tonight simply because I transferred him out. It’s bound to happen. 🙃 #FPL\n",
      "RT @FPLKami: COMPETITION: If Wesley Moraes scores first tonight against Everton, I’ll giveaway a 2019/20 Premier League shirt of the winner…\n",
      "Team locked for #GW3 🔒\n",
      "\n",
      "Button to start for me 😋 . 🧤\n",
      "Sterling captain ©️\n",
      "VC Martial ⛷\n",
      "Need something from Moura and… https://t.co/klXUVdrHzu\n",
      "I have exactly 4 hours to decide between Salah &amp; Sterling for captaincy. #FPL\n"
     ]
    }
   ],
   "source": [
    "tweets = tw.Cursor(api.search,\n",
    "              q=search_words,\n",
    "              lang=\"en\",\n",
    "              since=date_since).items(5)\n",
    "\n",
    "# Iterate on tweets\n",
    "for tweet in tweets:\n",
    "    print(tweet.text)"
   ]
  },
  {
   "cell_type": "code",
   "execution_count": 31,
   "metadata": {},
   "outputs": [
    {
     "data": {
      "text/plain": [
       "[]"
      ]
     },
     "execution_count": 31,
     "metadata": {},
     "output_type": "execute_result"
    }
   ],
   "source": [
    "# Collect tweets\n",
    "tweets = tw.Cursor(api.search,\n",
    "                       q=search_words,\n",
    "                       lang=\"en\",\n",
    "                       since=date_since).items(5)\n",
    "\n",
    "# Collect a list of tweets\n",
    "[tweet.text for tweet in tweets]\n",
    "\n",
    "users_locs = [[tweet.user.screen_name, tweet.user.location] for tweet in tweets]\n",
    "users_locs"
   ]
  },
  {
   "cell_type": "code",
   "execution_count": 32,
   "metadata": {},
   "outputs": [
    {
     "data": {
      "text/html": [
       "<div>\n",
       "<style scoped>\n",
       "    .dataframe tbody tr th:only-of-type {\n",
       "        vertical-align: middle;\n",
       "    }\n",
       "\n",
       "    .dataframe tbody tr th {\n",
       "        vertical-align: top;\n",
       "    }\n",
       "\n",
       "    .dataframe thead th {\n",
       "        text-align: right;\n",
       "    }\n",
       "</style>\n",
       "<table border=\"1\" class=\"dataframe\">\n",
       "  <thead>\n",
       "    <tr style=\"text-align: right;\">\n",
       "      <th></th>\n",
       "      <th>user</th>\n",
       "      <th>location</th>\n",
       "    </tr>\n",
       "  </thead>\n",
       "  <tbody>\n",
       "  </tbody>\n",
       "</table>\n",
       "</div>"
      ],
      "text/plain": [
       "Empty DataFrame\n",
       "Columns: [user, location]\n",
       "Index: []"
      ]
     },
     "execution_count": 32,
     "metadata": {},
     "output_type": "execute_result"
    }
   ],
   "source": [
    "tweet_text = pd.DataFrame(data=users_locs, \n",
    "                    columns=['user', \"location\"])\n",
    "tweet_text"
   ]
  },
  {
   "cell_type": "code",
   "execution_count": null,
   "metadata": {},
   "outputs": [],
   "source": []
  }
 ],
 "metadata": {
  "kernelspec": {
   "display_name": "Python 3",
   "language": "python",
   "name": "python3"
  },
  "language_info": {
   "codemirror_mode": {
    "name": "ipython",
    "version": 3
   },
   "file_extension": ".py",
   "mimetype": "text/x-python",
   "name": "python",
   "nbconvert_exporter": "python",
   "pygments_lexer": "ipython3",
   "version": "3.7.2"
  }
 },
 "nbformat": 4,
 "nbformat_minor": 2
}
